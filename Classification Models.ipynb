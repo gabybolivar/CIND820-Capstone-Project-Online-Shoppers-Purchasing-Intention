{
 "cells": [
  {
   "cell_type": "code",
   "execution_count": 1,
   "metadata": {},
   "outputs": [],
   "source": [
    "import pandas as pd\n",
    "import seaborn as sns\n",
    "import numpy as np\n",
    "import matplotlib.pyplot as plt\n",
    "from sklearn.ensemble import RandomForestClassifier\n",
    "from sklearn.model_selection import train_test_split\n",
    "from sklearn.preprocessing import StandardScaler \n",
    "from sklearn.metrics import accuracy_score \n",
    "from sklearn.model_selection import cross_val_score\n",
    "from sklearn.model_selection import KFold\n",
    "from sklearn.model_selection import GridSearchCV\n",
    "from sklearn.model_selection import cross_validate\n",
    "from sklearn import metrics\n",
    "from sklearn.metrics import confusion_matrix \n",
    "from sklearn.metrics import classification_report \n",
    "from sklearn.model_selection import StratifiedKFold\n",
    "from sklearn import ensemble\n",
    "import xgboost as xgb\n",
    "from sklearn.metrics import mean_squared_error "
   ]
  },
  {
   "cell_type": "markdown",
   "metadata": {},
   "source": [
    "**Import Dataset**"
   ]
  },
  {
   "cell_type": "code",
   "execution_count": 2,
   "metadata": {},
   "outputs": [],
   "source": [
    "df =pd.read_csv ('/home/jovyan/Onlineshoppersdata(1).csv')"
   ]
  },
  {
   "cell_type": "markdown",
   "metadata": {},
   "source": [
    "# <font color='red'>**Classification Algortihms with imbalanced dataset**</font>"
   ]
  },
  {
   "cell_type": "markdown",
   "metadata": {},
   "source": [
    "## **Random Forest**"
   ]
  },
  {
   "cell_type": "markdown",
   "metadata": {},
   "source": [
    "### **Separate the data into Train and Test**"
   ]
  },
  {
   "cell_type": "code",
   "execution_count": 3,
   "metadata": {},
   "outputs": [],
   "source": [
    "x = df.drop(['Revenue'],axis=1).values   # independant features\n",
    "y = df['Revenue'].values\t\t\t\t\t# dependant variable\n",
    "\n",
    "x_trainrf, x_testrf, y_trainrf, y_testrf = train_test_split(x, y, test_size=0.2, random_state=42)"
   ]
  },
  {
   "cell_type": "code",
   "execution_count": 4,
   "metadata": {},
   "outputs": [],
   "source": [
    "forest  = RandomForestClassifier()\n",
    " \n",
    "forest.fit(x_trainrf,y_trainrf)\n",
    "\n",
    "y_predrf =forest.predict(x_testrf)"
   ]
  },
  {
   "cell_type": "code",
   "execution_count": 5,
   "metadata": {},
   "outputs": [
    {
     "name": "stdout",
     "output_type": "stream",
     "text": [
      "Acurracy is  89.05\n"
     ]
    }
   ],
   "source": [
    "accuracy_forest = (metrics.accuracy_score(y_testrf,y_predrf)*100)\n",
    "print('Acurracy is ', str(round(accuracy_forest,2)))"
   ]
  },
  {
   "cell_type": "code",
   "execution_count": 6,
   "metadata": {},
   "outputs": [
    {
     "name": "stdout",
     "output_type": "stream",
     "text": [
      "RMSE (root-mean-square error): 0.330891\n"
     ]
    }
   ],
   "source": [
    "rmse = np.sqrt(mean_squared_error(y_testrf, y_predrf))\n",
    "print(\"RMSE (root-mean-square error): %f\" % (rmse))"
   ]
  },
  {
   "cell_type": "code",
   "execution_count": 7,
   "metadata": {},
   "outputs": [
    {
     "name": "stdout",
     "output_type": "stream",
     "text": [
      "[[1974   81]\n",
      " [ 189  222]]\n"
     ]
    }
   ],
   "source": [
    "# View confusion matrix for test data and predictions\n",
    "matrix_rf = confusion_matrix(y_testrf, y_predrf)\n",
    "print(matrix_rf )"
   ]
  },
  {
   "cell_type": "code",
   "execution_count": 8,
   "metadata": {},
   "outputs": [
    {
     "data": {
      "image/png": "[encoded data removed]",
      "text/plain": [
       "<Figure size 720x360 with 2 Axes>"
      ]
     },
     "metadata": {
      "needs_background": "light"
     },
     "output_type": "display_data"
    }
   ],
   "source": [
    "# Get and reshape confusion matrix data\n",
    "\n",
    "matrix_rforest = matrix_rf.astype('float') / matrix_rf.sum(axis=1)[:, np.newaxis]\n",
    "\n",
    "# Build the plot\n",
    "plt.figure(figsize=(10,5))\n",
    "sns.set(font_scale=1.4)\n",
    "sns.heatmap(matrix_rforest, annot=True, annot_kws={'size':10},\n",
    "            cmap=plt.cm.Greens, linewidths=0.2)\n",
    "\n",
    "# Add labels to the plot\n",
    "class_names = ['Yes', 'No']\n",
    "tick_marks = np.arange(len(class_names))\n",
    "tick_marks2 = tick_marks + 0.5\n",
    "plt.xticks(tick_marks, class_names, rotation=0,)\n",
    "plt.yticks(tick_marks2, class_names, rotation=0,  )\n",
    "plt.xlabel('Predicted label')\n",
    "plt.ylabel('True label')\n",
    "plt.title('Confusion Matrix for Random Forest Model')\n",
    "plt.savefig('output14.png', dpi=300, bbox_inches='tight')\n",
    "plt.show()"
   ]
  },
  {
   "cell_type": "code",
   "execution_count": 9,
   "metadata": {},
   "outputs": [
    {
     "name": "stdout",
     "output_type": "stream",
     "text": [
      "              precision    recall  f1-score   support\n",
      "\n",
      "           0       0.91      0.96      0.94      2055\n",
      "           1       0.73      0.54      0.62       411\n",
      "\n",
      "    accuracy                           0.89      2466\n",
      "   macro avg       0.82      0.75      0.78      2466\n",
      "weighted avg       0.88      0.89      0.88      2466\n",
      "\n"
     ]
    }
   ],
   "source": [
    "# View the classification report for test data and predictions\n",
    "print(classification_report(y_testrf, y_predrf))"
   ]
  },
  {
   "cell_type": "markdown",
   "metadata": {},
   "source": [
    "## **K-Fold Cross Validation for Random Forest**"
   ]
  },
  {
   "cell_type": "markdown",
   "metadata": {},
   "source": [
    "> **Using Cross Validate**"
   ]
  },
  {
   "cell_type": "code",
   "execution_count": 10,
   "metadata": {},
   "outputs": [
    {
     "name": "stdout",
     "output_type": "stream",
     "text": [
      "The test scores are:, [88.24006488 90.51094891 93.18734793 88.40227088 89.6188159  87.10462287\n",
      " 87.34793187 88.80778589 89.21330089 86.13138686]\n",
      "The average test score is :88.85644768856449\n"
     ]
    }
   ],
   "source": [
    "x = df.drop(['Revenue'],axis=1).values   # independant features\n",
    "y = df['Revenue'].values\t\t\t\t\t# dependant variable\n",
    "\n",
    "model = RandomForestClassifier(random_state=42)\n",
    "cv = cross_validate(model, x, y, cv=10)\n",
    "test_score =(cv['test_score'])*100\n",
    "print('The test scores are:, ' + str(test_score))\n",
    "print('The average test score is :' + str(test_score.mean()))\n"
   ]
  },
  {
   "cell_type": "code",
   "execution_count": 11,
   "metadata": {},
   "outputs": [
    {
     "name": "stdout",
     "output_type": "stream",
     "text": [
      "0.89 accuracy with a standard deviation of 0.02\n"
     ]
    }
   ],
   "source": [
    "scores = cross_val_score(model, x, y, cv=10)\n",
    "scores\n",
    "print(\"%0.2f accuracy with a standard deviation of %0.2f\" % (scores.mean(), scores.std()))"
   ]
  },
  {
   "cell_type": "markdown",
   "metadata": {},
   "source": [
    "> **Using Kfold to separate the data**"
   ]
  },
  {
   "cell_type": "code",
   "execution_count": 12,
   "metadata": {},
   "outputs": [
    {
     "name": "stdout",
     "output_type": "stream",
     "text": [
      "confusion matrix:\n",
      "1 \n",
      " [[987  43]\n",
      " [ 95 108]]\n",
      "##########\n",
      "2 \n",
      " [[989  36]\n",
      " [ 91 117]]\n",
      "##########\n",
      "3 \n",
      " [[1029   40]\n",
      " [  67   97]]\n",
      "##########\n",
      "4 \n",
      " [[1007   39]\n",
      " [  79  108]]\n",
      "##########\n",
      "5 \n",
      " [[1013   39]\n",
      " [  76  105]]\n",
      "##########\n",
      "6 \n",
      " [[1011   28]\n",
      " [  75  119]]\n",
      "##########\n",
      "7 \n",
      " [[1010   37]\n",
      " [  79  107]]\n",
      "##########\n",
      "8 \n",
      " [[984  46]\n",
      " [ 89 114]]\n",
      "##########\n",
      "9 \n",
      " [[1007   28]\n",
      " [  72  126]]\n",
      "##########\n",
      "10 \n",
      " [[1012   37]\n",
      " [  92   92]]\n",
      "##########\n"
     ]
    }
   ],
   "source": [
    "X = df.drop(['Revenue'],axis=1).values   # independant features\n",
    "y = df['Revenue'].values\t\t\t\t\t# dependant variable\n",
    "\n",
    "kf = KFold(n_splits=10,random_state=42,shuffle=True)\n",
    "kf.get_n_splits(X)\n",
    "i=1\n",
    "print(\"confusion matrix:\")\n",
    "for train_index, test_index in kf.split(X):\n",
    "\n",
    "    X_train, X_test = X[train_index], X[test_index]\n",
    "\n",
    "    y_train, y_test = y[train_index], y[test_index]\n",
    "\n",
    "    model.fit(X_train, y_train)\n",
    "\n",
    "    print (i,\"\\n\",confusion_matrix(y_test, model.predict(X_test)))\n",
    "    i=i+1\n",
    "    print(10* '#')"
   ]
  },
  {
   "cell_type": "markdown",
   "metadata": {},
   "source": [
    "> **Using StratifiedKFold**"
   ]
  },
  {
   "cell_type": "code",
   "execution_count": 13,
   "metadata": {},
   "outputs": [
    {
     "name": "stdout",
     "output_type": "stream",
     "text": [
      "Fold:1, Train set: 11097, Test set:1233\n",
      "Fold:2, Train set: 11097, Test set:1233\n",
      "Fold:3, Train set: 11097, Test set:1233\n",
      "Fold:4, Train set: 11097, Test set:1233\n",
      "Fold:5, Train set: 11097, Test set:1233\n",
      "Fold:6, Train set: 11097, Test set:1233\n",
      "Fold:7, Train set: 11097, Test set:1233\n",
      "Fold:8, Train set: 11097, Test set:1233\n",
      "Fold:9, Train set: 11097, Test set:1233\n",
      "Fold:10, Train set: 11097, Test set:1233\n",
      "Scores for each fold are: [0.90186537 0.9026764  0.90024331 0.89699919 0.90510949 0.90348743\n",
      " 0.9026764  0.9107867  0.89213301 0.9026764 ]\n",
      "Average score: 0.90\n"
     ]
    }
   ],
   "source": [
    "X = df.drop(['Revenue'],axis=1).values   # independant features\n",
    "y = df['Revenue'].values\t\t\t\t\t# dependant variable\n",
    "\n",
    "kf = StratifiedKFold(n_splits=10, shuffle=True, random_state=42)\n",
    "\n",
    "cnt = 1\n",
    "# split()  method generate indices to split data into training and test set.\n",
    "for train_index, test_index in kf.split(X, y):\n",
    "    print(f'Fold:{cnt}, Train set: {len(train_index)}, Test set:{len(test_index)}')\n",
    "    cnt+=1\n",
    "\n",
    "score = cross_val_score(ensemble.RandomForestClassifier(random_state= 42), X, y, cv= kf, scoring=\"accuracy\")\n",
    "print(f'Scores for each fold are: {score}')\n",
    "print(f'Average score: {\"{:.2f}\".format(score.mean())}')"
   ]
  },
  {
   "cell_type": "markdown",
   "metadata": {},
   "source": [
    "> <font color='blue'>**After applying K-fold to Random Forest we can observe that the average score remains at 90%**</font>"
   ]
  },
  {
   "cell_type": "markdown",
   "metadata": {},
   "source": [
    "## **XGBoost**"
   ]
  },
  {
   "cell_type": "code",
   "execution_count": 14,
   "metadata": {},
   "outputs": [
    {
     "name": "stdout",
     "output_type": "stream",
     "text": [
      "XGBClassifier(base_score=None, booster=None, colsample_bylevel=None,\n",
      "              colsample_bynode=None, colsample_bytree=None,\n",
      "              enable_categorical=False, gamma=None, gpu_id=None,\n",
      "              importance_type=None, interaction_constraints=None,\n",
      "              learning_rate=None, max_delta_step=None, max_depth=None,\n",
      "              min_child_weight=None, missing=nan, monotone_constraints=None,\n",
      "              n_estimators=100, n_jobs=None, num_parallel_tree=None,\n",
      "              predictor=None, random_state=None, reg_alpha=None,\n",
      "              reg_lambda=None, scale_pos_weight=None, subsample=None,\n",
      "              tree_method=None, validate_parameters=None, verbosity=None)\n"
     ]
    }
   ],
   "source": [
    "x = df.drop(['Revenue'],axis=1).values   # independant features\n",
    "y = df['Revenue'].values\t\t\t\t\t# dependant variable\n",
    "\n",
    "data_dmatrix = xgb.DMatrix(data=x,label=y)\n",
    "X_trainxg, X_testxg, y_trainxg, y_testxg = train_test_split(x, y, test_size=0.2, random_state=42)\n",
    "\n",
    "xg_model = xgb.XGBClassifier()\n",
    "print(xg_model)"
   ]
  },
  {
   "cell_type": "code",
   "execution_count": 15,
   "metadata": {},
   "outputs": [
    {
     "name": "stdout",
     "output_type": "stream",
     "text": [
      "[22:30:20] WARNING: ../src/learner.cc:1115: Starting in XGBoost 1.3.0, the default evaluation metric used with the objective 'binary:logistic' was changed from 'error' to 'logloss'. Explicitly set eval_metric if you'd like to restore the old behavior.\n"
     ]
    },
    {
     "name": "stderr",
     "output_type": "stream",
     "text": [
      "/opt/conda/lib/python3.7/site-packages/xgboost/sklearn.py:1224: UserWarning: The use of label encoder in XGBClassifier is deprecated and will be removed in a future release. To remove this warning, do the following: 1) Pass option use_label_encoder=False when constructing XGBClassifier object; and 2) Encode your labels (y) as integers starting with 0, i.e. 0, 1, 2, ..., [num_class - 1].\n",
      "  warnings.warn(label_encoder_deprecation_msg, UserWarning)\n"
     ]
    }
   ],
   "source": [
    "xg_model.fit(X_trainxg,y_trainxg)\n",
    "\n",
    "preds_xg = xg_model.predict(X_testxg)# make predictions for test data\n",
    "\n",
    "predictions = [round(value) for value in preds_xg]\n"
   ]
  },
  {
   "cell_type": "code",
   "execution_count": 16,
   "metadata": {},
   "outputs": [
    {
     "name": "stdout",
     "output_type": "stream",
     "text": [
      "Acurracy is  89.05\n"
     ]
    }
   ],
   "source": [
    "accuracy_xg = (metrics.accuracy_score(y_testxg,preds_xg)*100)\n",
    "print('Acurracy is ', str(round(accuracy_forest,2)))"
   ]
  },
  {
   "cell_type": "code",
   "execution_count": 17,
   "metadata": {},
   "outputs": [
    {
     "name": "stdout",
     "output_type": "stream",
     "text": [
      "RMSE (root-mean-square error): 0.338165\n"
     ]
    }
   ],
   "source": [
    "rmse = np.sqrt(mean_squared_error(y_testxg, preds_xg))\n",
    "print(\"RMSE (root-mean-square error): %f\" % (rmse))"
   ]
  },
  {
   "cell_type": "code",
   "execution_count": 24,
   "metadata": {},
   "outputs": [
    {
     "name": "stdout",
     "output_type": "stream",
     "text": [
      "[[1958   97]\n",
      " [ 185  226]]\n"
     ]
    }
   ],
   "source": [
    "# View confusion matrix for test data and predictions\n",
    "matrix_xgboost=confusion_matrix(y_testxg, preds_xg)\n",
    "print(matrix_xgboost)"
   ]
  },
  {
   "cell_type": "code",
   "execution_count": 25,
   "metadata": {},
   "outputs": [
    {
     "data": {
      "image/png": "[encoded data removed]",
      "text/plain": [
       "<Figure size 720x360 with 2 Axes>"
      ]
     },
     "metadata": {},
     "output_type": "display_data"
    }
   ],
   "source": [
    "# Get and reshape confusion matrix data\n",
    "matrix_xg = matrix_xgboost.astype('float') / matrix_xgboost.sum(axis=1)[:, np.newaxis]\n",
    "\n",
    "# Build the plot\n",
    "plt.figure(figsize=(10,5))\n",
    "sns.set(font_scale=1.4)\n",
    "sns.heatmap(matrix_xg, annot=True, annot_kws={'size':10},\n",
    "            cmap=plt.cm.Greens, linewidths=0.2)\n",
    "\n",
    "# Add labels to the plot\n",
    "class_names = ['Yes', 'No']\n",
    "tick_marks = np.arange(len(class_names))\n",
    "tick_marks2 = tick_marks + 0.5\n",
    "plt.xticks(tick_marks, class_names, rotation=0,)\n",
    "plt.yticks(tick_marks2, class_names, rotation=0,  )\n",
    "plt.xlabel('Predicted label')\n",
    "plt.ylabel('True label')\n",
    "plt.title('Confusion Matrix for XGBoost')\n",
    "plt.savefig('output15.png', dpi=300, bbox_inches='tight')\n",
    "plt.show()"
   ]
  },
  {
   "cell_type": "code",
   "execution_count": 26,
   "metadata": {},
   "outputs": [
    {
     "name": "stdout",
     "output_type": "stream",
     "text": [
      "              precision    recall  f1-score   support\n",
      "\n",
      "           0       0.91      0.95      0.93      2055\n",
      "           1       0.70      0.55      0.62       411\n",
      "\n",
      "    accuracy                           0.89      2466\n",
      "   macro avg       0.81      0.75      0.77      2466\n",
      "weighted avg       0.88      0.89      0.88      2466\n",
      "\n"
     ]
    }
   ],
   "source": [
    "print(classification_report(y_testxg, preds_xg))"
   ]
  },
  {
   "cell_type": "markdown",
   "metadata": {},
   "source": [
    "## **XGBoost Model With k-Fold Cross Validation**"
   ]
  },
  {
   "cell_type": "markdown",
   "metadata": {},
   "source": [
    "> **Using Kfold**"
   ]
  },
  {
   "cell_type": "code",
   "execution_count": 33,
   "metadata": {},
   "outputs": [
    {
     "name": "stdout",
     "output_type": "stream",
     "text": [
      "Accuracy: 89.70% (0.87%)\n"
     ]
    }
   ],
   "source": [
    "x = df.drop(['Revenue'],axis=1).values   # independant features\n",
    "y = df['Revenue'].values\t\t\t\t\t# dependant variable\n",
    "\n",
    "# CV model\n",
    "model = xgb.XGBClassifier(use_label_encoder=False,eval_metric='mlogloss' )\n",
    "kfold = KFold(n_splits=10, random_state=42, shuffle=True)\n",
    "results = cross_val_score(model, X, y, cv=kfold)\n",
    "print(\"Accuracy: %.2f%% (%.2f%%)\" % (results.mean()*100, results.std()*100))"
   ]
  },
  {
   "cell_type": "markdown",
   "metadata": {},
   "source": [
    "> **Using stratified cross validation**"
   ]
  },
  {
   "cell_type": "code",
   "execution_count": 36,
   "metadata": {},
   "outputs": [
    {
     "name": "stdout",
     "output_type": "stream",
     "text": [
      "The Accuracy is: 89.75% (0.56%)\n"
     ]
    }
   ],
   "source": [
    "X = df.drop(['Revenue'],axis=1).values   # independant features\n",
    "Y = df['Revenue'].values\t\t\t\t\t# dependant variable\n",
    "\n",
    "# CV model\n",
    "model = xgb.XGBClassifier(use_label_encoder=False,eval_metric='mlogloss' )\n",
    "kfold = StratifiedKFold(n_splits=10, random_state=7,shuffle=True)\n",
    "results = cross_val_score(model, X, Y, cv=kfold)\n",
    "print(\"The Accuracy is: %.2f%% (%.2f%%)\" % (results.mean()*100, results.std()*100))"
   ]
  },
  {
   "cell_type": "markdown",
   "metadata": {},
   "source": [
    "> <font color='blue'>**After applying K-fold to the XGBoost model we can observe that the average score remains at 88-89%**</font>"
   ]
  },
  {
   "cell_type": "code",
   "execution_count": null,
   "metadata": {},
   "outputs": [],
   "source": []
  }
 ],
 "metadata": {
  "kernelspec": {
   "display_name": "Python 3",
   "language": "python",
   "name": "python3"
  },
  "language_info": {
   "codemirror_mode": {
    "name": "ipython",
    "version": 3
   },
   "file_extension": ".py",
   "mimetype": "text/x-python",
   "name": "python",
   "nbconvert_exporter": "python",
   "pygments_lexer": "ipython3",
   "version": "3.7.6"
  }
 },
 "nbformat": 4,
 "nbformat_minor": 4
}
